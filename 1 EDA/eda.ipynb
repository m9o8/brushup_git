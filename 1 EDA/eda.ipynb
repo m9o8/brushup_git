{
 "cells": [
  {
   "cell_type": "code",
   "execution_count": 1,
   "metadata": {},
   "outputs": [],
   "source": [
    "import os \n",
    "import pandas as pd\n",
    "import polars as pl"
   ]
  },
  {
   "cell_type": "markdown",
   "metadata": {},
   "source": [
    "## WB data"
   ]
  },
  {
   "cell_type": "markdown",
   "metadata": {},
   "source": [
    "### 3. Task\n",
    "#### a) The head"
   ]
  },
  {
   "cell_type": "code",
   "execution_count": 9,
   "metadata": {},
   "outputs": [
    {
     "data": {
      "text/html": [
       "<div>\n",
       "<style scoped>\n",
       "    .dataframe tbody tr th:only-of-type {\n",
       "        vertical-align: middle;\n",
       "    }\n",
       "\n",
       "    .dataframe tbody tr th {\n",
       "        vertical-align: top;\n",
       "    }\n",
       "\n",
       "    .dataframe thead th {\n",
       "        text-align: right;\n",
       "    }\n",
       "</style>\n",
       "<table border=\"1\" class=\"dataframe\">\n",
       "  <thead>\n",
       "    <tr style=\"text-align: right;\">\n",
       "      <th></th>\n",
       "      <th>Series Name</th>\n",
       "      <th>Series Code</th>\n",
       "      <th>Country Name</th>\n",
       "      <th>Country Code</th>\n",
       "      <th>2001</th>\n",
       "      <th>2002</th>\n",
       "      <th>2003</th>\n",
       "      <th>2011</th>\n",
       "      <th>2012</th>\n",
       "      <th>2013</th>\n",
       "      <th>2021</th>\n",
       "      <th>2022</th>\n",
       "      <th>2023</th>\n",
       "    </tr>\n",
       "  </thead>\n",
       "  <tbody>\n",
       "    <tr>\n",
       "      <th>0</th>\n",
       "      <td>Population, total</td>\n",
       "      <td>SP.POP.TOTL</td>\n",
       "      <td>Afghanistan</td>\n",
       "      <td>AFG</td>\n",
       "      <td>19688632</td>\n",
       "      <td>21000256</td>\n",
       "      <td>22645130</td>\n",
       "      <td>29249157</td>\n",
       "      <td>30466479</td>\n",
       "      <td>31541209</td>\n",
       "      <td>40099462</td>\n",
       "      <td>41128771</td>\n",
       "      <td>42239854</td>\n",
       "    </tr>\n",
       "    <tr>\n",
       "      <th>1</th>\n",
       "      <td>Population, total</td>\n",
       "      <td>SP.POP.TOTL</td>\n",
       "      <td>Albania</td>\n",
       "      <td>ALB</td>\n",
       "      <td>3060173</td>\n",
       "      <td>3051010</td>\n",
       "      <td>3039616</td>\n",
       "      <td>2905195</td>\n",
       "      <td>2900401</td>\n",
       "      <td>2895092</td>\n",
       "      <td>2811666</td>\n",
       "      <td>2777689</td>\n",
       "      <td>2745972</td>\n",
       "    </tr>\n",
       "    <tr>\n",
       "      <th>2</th>\n",
       "      <td>Population, total</td>\n",
       "      <td>SP.POP.TOTL</td>\n",
       "      <td>Algeria</td>\n",
       "      <td>DZA</td>\n",
       "      <td>31200985</td>\n",
       "      <td>31624696</td>\n",
       "      <td>32055883</td>\n",
       "      <td>36543541</td>\n",
       "      <td>37260563</td>\n",
       "      <td>38000626</td>\n",
       "      <td>44177969</td>\n",
       "      <td>44903225</td>\n",
       "      <td>45606480</td>\n",
       "    </tr>\n",
       "    <tr>\n",
       "      <th>3</th>\n",
       "      <td>Population, total</td>\n",
       "      <td>SP.POP.TOTL</td>\n",
       "      <td>American Samoa</td>\n",
       "      <td>ASM</td>\n",
       "      <td>58324</td>\n",
       "      <td>58177</td>\n",
       "      <td>57941</td>\n",
       "      <td>54310</td>\n",
       "      <td>53691</td>\n",
       "      <td>52995</td>\n",
       "      <td>45035</td>\n",
       "      <td>44273</td>\n",
       "      <td>43914</td>\n",
       "    </tr>\n",
       "    <tr>\n",
       "      <th>4</th>\n",
       "      <td>Population, total</td>\n",
       "      <td>SP.POP.TOTL</td>\n",
       "      <td>Andorra</td>\n",
       "      <td>AND</td>\n",
       "      <td>67820</td>\n",
       "      <td>70849</td>\n",
       "      <td>73907</td>\n",
       "      <td>70567</td>\n",
       "      <td>71013</td>\n",
       "      <td>71367</td>\n",
       "      <td>79034</td>\n",
       "      <td>79824</td>\n",
       "      <td>80088</td>\n",
       "    </tr>\n",
       "  </tbody>\n",
       "</table>\n",
       "</div>"
      ],
      "text/plain": [
       "         Series Name  Series Code    Country Name Country Code      2001  \\\n",
       "0  Population, total  SP.POP.TOTL     Afghanistan          AFG  19688632   \n",
       "1  Population, total  SP.POP.TOTL         Albania          ALB   3060173   \n",
       "2  Population, total  SP.POP.TOTL         Algeria          DZA  31200985   \n",
       "3  Population, total  SP.POP.TOTL  American Samoa          ASM     58324   \n",
       "4  Population, total  SP.POP.TOTL         Andorra          AND     67820   \n",
       "\n",
       "       2002      2003      2011      2012      2013      2021      2022  \\\n",
       "0  21000256  22645130  29249157  30466479  31541209  40099462  41128771   \n",
       "1   3051010   3039616   2905195   2900401   2895092   2811666   2777689   \n",
       "2  31624696  32055883  36543541  37260563  38000626  44177969  44903225   \n",
       "3     58177     57941     54310     53691     52995     45035     44273   \n",
       "4     70849     73907     70567     71013     71367     79034     79824   \n",
       "\n",
       "       2023  \n",
       "0  42239854  \n",
       "1   2745972  \n",
       "2  45606480  \n",
       "3     43914  \n",
       "4     80088  "
      ]
     },
     "execution_count": 9,
     "metadata": {},
     "output_type": "execute_result"
    }
   ],
   "source": [
    "wb = pd.read_csv(rf\"{path}\\WB_pop_clean.csv\")\n",
    "wb.head()"
   ]
  },
  {
   "cell_type": "markdown",
   "metadata": {},
   "source": [
    "##### b) Country codes"
   ]
  },
  {
   "cell_type": "code",
   "execution_count": 15,
   "metadata": {},
   "outputs": [
    {
     "data": {
      "text/plain": [
       "array(['AFG', 'ALB', 'DZA', 'ASM', 'AND', 'AGO', 'ATG', 'ARG', 'ARM',\n",
       "       'ABW', 'AUS', 'AUT', 'AZE', 'BHS', 'BHR', 'BGD', 'BRB', 'BLR',\n",
       "       'BEL', 'BLZ', 'BEN', 'BMU', 'BTN', 'BOL', 'BIH', 'BWA', 'BRA',\n",
       "       'VGB', 'BRN', 'BGR', 'BFA', 'BDI', 'CPV', 'KHM', 'CMR', 'CAN',\n",
       "       'CYM', 'CAF', 'TCD', 'CHI', 'CHL', 'CHN', 'COL', 'COM', 'COD',\n",
       "       'COG', 'CRI', 'CIV', 'HRV', 'CUB', 'CUW', 'CYP', 'CZE', 'DNK',\n",
       "       'DJI', 'DMA', 'DOM', 'ECU', 'EGY', 'SLV', 'GNQ', 'ERI', 'EST',\n",
       "       'SWZ', 'ETH', 'FRO', 'FJI', 'FIN', 'FRA', 'PYF', 'GAB', 'GMB',\n",
       "       'GEO', 'DEU', 'GHA', 'GIB', 'GRC', 'GRL', 'GRD', 'GUM', 'GTM',\n",
       "       'GIN', 'GNB', 'GUY', 'HTI', 'HND', 'HKG', 'HUN', 'ISL', 'IND',\n",
       "       'IDN', 'IRN', 'IRQ', 'IRL', 'IMN', 'ISR', 'ITA', 'JAM', 'JPN',\n",
       "       'JOR', 'KAZ', 'KEN', 'KIR', 'PRK', 'KOR', 'XKX', 'KWT', 'KGZ',\n",
       "       'LAO', 'LVA', 'LBN', 'LSO', 'LBR', 'LBY', 'LIE', 'LTU', 'LUX',\n",
       "       'MAC', 'MDG', 'MWI', 'MYS', 'MDV', 'MLI', 'MLT', 'MHL', 'MRT',\n",
       "       'MUS', 'MEX', 'FSM', 'MDA', 'MCO', 'MNG', 'MNE', 'MAR', 'MOZ',\n",
       "       'MMR', 'NAM', 'NRU', 'NPL', 'NLD', 'NCL', 'NZL', 'NIC', 'NER',\n",
       "       'NGA', 'MKD', 'MNP', 'NOR', 'OMN', 'PAK', 'PLW', 'PAN', 'PNG',\n",
       "       'PRY', 'PER', 'PHL', 'POL', 'PRT', 'PRI', 'QAT', 'ROU', 'RUS',\n",
       "       'RWA', 'WSM', 'SMR', 'STP', 'SAU', 'SEN', 'SRB', 'SYC', 'SLE',\n",
       "       'SGP', 'SXM', 'SVK', 'SVN', 'SLB', 'SOM', 'ZAF', 'SSD', 'ESP',\n",
       "       'LKA', 'KNA', 'LCA', 'MAF', 'VCT', 'SDN', 'SUR', 'SWE', 'CHE',\n",
       "       'SYR', 'TJK', 'TZA', 'THA', 'TLS', 'TGO', 'TON', 'TTO', 'TUN',\n",
       "       'TUR', 'TKM', 'TCA', 'TUV', 'UGA', 'UKR', 'ARE', 'GBR', 'USA',\n",
       "       'URY', 'UZB', 'VUT', 'VEN', 'VNM', 'VIR', 'PSE', 'YEM', 'ZMB',\n",
       "       'ZWE', 'WLD'], dtype=object)"
      ]
     },
     "execution_count": 15,
     "metadata": {},
     "output_type": "execute_result"
    }
   ],
   "source": [
    "wb[\"Country Code\"].unique()"
   ]
  },
  {
   "cell_type": "markdown",
   "metadata": {},
   "source": [
    "#### c) NAs"
   ]
  },
  {
   "cell_type": "code",
   "execution_count": 20,
   "metadata": {},
   "outputs": [
    {
     "data": {
      "text/html": [
       "<div>\n",
       "<style scoped>\n",
       "    .dataframe tbody tr th:only-of-type {\n",
       "        vertical-align: middle;\n",
       "    }\n",
       "\n",
       "    .dataframe tbody tr th {\n",
       "        vertical-align: top;\n",
       "    }\n",
       "\n",
       "    .dataframe thead th {\n",
       "        text-align: right;\n",
       "    }\n",
       "</style>\n",
       "<table border=\"1\" class=\"dataframe\">\n",
       "  <thead>\n",
       "    <tr style=\"text-align: right;\">\n",
       "      <th></th>\n",
       "      <th>Series Name</th>\n",
       "      <th>Series Code</th>\n",
       "      <th>Country Name</th>\n",
       "      <th>Country Code</th>\n",
       "      <th>2001</th>\n",
       "      <th>2002</th>\n",
       "      <th>2003</th>\n",
       "      <th>2011</th>\n",
       "      <th>2012</th>\n",
       "      <th>2013</th>\n",
       "      <th>2021</th>\n",
       "      <th>2022</th>\n",
       "      <th>2023</th>\n",
       "    </tr>\n",
       "  </thead>\n",
       "  <tbody>\n",
       "  </tbody>\n",
       "</table>\n",
       "</div>"
      ],
      "text/plain": [
       "Empty DataFrame\n",
       "Columns: [Series Name, Series Code, Country Name, Country Code, 2001, 2002, 2003, 2011, 2012, 2013, 2021, 2022, 2023]\n",
       "Index: []"
      ]
     },
     "execution_count": 20,
     "metadata": {},
     "output_type": "execute_result"
    }
   ],
   "source": [
    "# Missing values\n",
    "wb[wb.isna().any(axis=1)]"
   ]
  },
  {
   "cell_type": "code",
   "execution_count": 75,
   "metadata": {},
   "outputs": [
    {
     "data": {
      "text/html": [
       "<div>\n",
       "<style scoped>\n",
       "    .dataframe tbody tr th:only-of-type {\n",
       "        vertical-align: middle;\n",
       "    }\n",
       "\n",
       "    .dataframe tbody tr th {\n",
       "        vertical-align: top;\n",
       "    }\n",
       "\n",
       "    .dataframe thead th {\n",
       "        text-align: right;\n",
       "    }\n",
       "</style>\n",
       "<table border=\"1\" class=\"dataframe\">\n",
       "  <thead>\n",
       "    <tr style=\"text-align: right;\">\n",
       "      <th></th>\n",
       "      <th>2001</th>\n",
       "      <th>2002</th>\n",
       "      <th>2003</th>\n",
       "      <th>2011</th>\n",
       "      <th>2012</th>\n",
       "      <th>2013</th>\n",
       "      <th>2021</th>\n",
       "      <th>2022</th>\n",
       "      <th>2023</th>\n",
       "    </tr>\n",
       "  </thead>\n",
       "  <tbody>\n",
       "    <tr>\n",
       "      <th>count</th>\n",
       "      <td>2.180000e+02</td>\n",
       "      <td>2.180000e+02</td>\n",
       "      <td>2.180000e+02</td>\n",
       "      <td>2.180000e+02</td>\n",
       "      <td>2.180000e+02</td>\n",
       "      <td>2.180000e+02</td>\n",
       "      <td>2.180000e+02</td>\n",
       "      <td>2.180000e+02</td>\n",
       "      <td>2.180000e+02</td>\n",
       "    </tr>\n",
       "    <tr>\n",
       "      <th>mean</th>\n",
       "      <td>5.702126e+07</td>\n",
       "      <td>5.777115e+07</td>\n",
       "      <td>5.851666e+07</td>\n",
       "      <td>6.460916e+07</td>\n",
       "      <td>6.541101e+07</td>\n",
       "      <td>6.621822e+07</td>\n",
       "      <td>7.226807e+07</td>\n",
       "      <td>7.284406e+07</td>\n",
       "      <td>7.351661e+07</td>\n",
       "    </tr>\n",
       "    <tr>\n",
       "      <th>std</th>\n",
       "      <td>4.357249e+08</td>\n",
       "      <td>4.413970e+08</td>\n",
       "      <td>4.470272e+08</td>\n",
       "      <td>4.927859e+08</td>\n",
       "      <td>4.988148e+08</td>\n",
       "      <td>5.048778e+08</td>\n",
       "      <td>5.500182e+08</td>\n",
       "      <td>5.542406e+08</td>\n",
       "      <td>5.591759e+08</td>\n",
       "    </tr>\n",
       "    <tr>\n",
       "      <th>min</th>\n",
       "      <td>9.621000e+03</td>\n",
       "      <td>9.609000e+03</td>\n",
       "      <td>9.668000e+03</td>\n",
       "      <td>1.028300e+04</td>\n",
       "      <td>1.044400e+04</td>\n",
       "      <td>1.069400e+04</td>\n",
       "      <td>1.120400e+04</td>\n",
       "      <td>1.131200e+04</td>\n",
       "      <td>1.139600e+04</td>\n",
       "    </tr>\n",
       "    <tr>\n",
       "      <th>25%</th>\n",
       "      <td>6.252495e+05</td>\n",
       "      <td>6.425825e+05</td>\n",
       "      <td>6.631015e+05</td>\n",
       "      <td>7.210558e+05</td>\n",
       "      <td>7.268502e+05</td>\n",
       "      <td>7.335218e+05</td>\n",
       "      <td>8.088315e+05</td>\n",
       "      <td>8.157380e+05</td>\n",
       "      <td>8.233942e+05</td>\n",
       "    </tr>\n",
       "    <tr>\n",
       "      <th>50%</th>\n",
       "      <td>5.175659e+06</td>\n",
       "      <td>5.267269e+06</td>\n",
       "      <td>5.352080e+06</td>\n",
       "      <td>5.893246e+06</td>\n",
       "      <td>5.896596e+06</td>\n",
       "      <td>5.995436e+06</td>\n",
       "      <td>6.719538e+06</td>\n",
       "      <td>6.564773e+06</td>\n",
       "      <td>6.567063e+06</td>\n",
       "    </tr>\n",
       "    <tr>\n",
       "      <th>75%</th>\n",
       "      <td>1.716950e+07</td>\n",
       "      <td>1.764196e+07</td>\n",
       "      <td>1.812237e+07</td>\n",
       "      <td>2.214575e+07</td>\n",
       "      <td>2.245686e+07</td>\n",
       "      <td>2.226016e+07</td>\n",
       "      <td>2.590028e+07</td>\n",
       "      <td>2.617334e+07</td>\n",
       "      <td>2.706177e+07</td>\n",
       "    </tr>\n",
       "    <tr>\n",
       "      <th>max</th>\n",
       "      <td>6.226487e+09</td>\n",
       "      <td>6.308285e+09</td>\n",
       "      <td>6.389593e+09</td>\n",
       "      <td>7.053989e+09</td>\n",
       "      <td>7.141431e+09</td>\n",
       "      <td>7.229458e+09</td>\n",
       "      <td>7.888964e+09</td>\n",
       "      <td>7.951595e+09</td>\n",
       "      <td>8.024997e+09</td>\n",
       "    </tr>\n",
       "  </tbody>\n",
       "</table>\n",
       "</div>"
      ],
      "text/plain": [
       "               2001          2002          2003          2011          2012  \\\n",
       "count  2.180000e+02  2.180000e+02  2.180000e+02  2.180000e+02  2.180000e+02   \n",
       "mean   5.702126e+07  5.777115e+07  5.851666e+07  6.460916e+07  6.541101e+07   \n",
       "std    4.357249e+08  4.413970e+08  4.470272e+08  4.927859e+08  4.988148e+08   \n",
       "min    9.621000e+03  9.609000e+03  9.668000e+03  1.028300e+04  1.044400e+04   \n",
       "25%    6.252495e+05  6.425825e+05  6.631015e+05  7.210558e+05  7.268502e+05   \n",
       "50%    5.175659e+06  5.267269e+06  5.352080e+06  5.893246e+06  5.896596e+06   \n",
       "75%    1.716950e+07  1.764196e+07  1.812237e+07  2.214575e+07  2.245686e+07   \n",
       "max    6.226487e+09  6.308285e+09  6.389593e+09  7.053989e+09  7.141431e+09   \n",
       "\n",
       "               2013          2021          2022          2023  \n",
       "count  2.180000e+02  2.180000e+02  2.180000e+02  2.180000e+02  \n",
       "mean   6.621822e+07  7.226807e+07  7.284406e+07  7.351661e+07  \n",
       "std    5.048778e+08  5.500182e+08  5.542406e+08  5.591759e+08  \n",
       "min    1.069400e+04  1.120400e+04  1.131200e+04  1.139600e+04  \n",
       "25%    7.335218e+05  8.088315e+05  8.157380e+05  8.233942e+05  \n",
       "50%    5.995436e+06  6.719538e+06  6.564773e+06  6.567063e+06  \n",
       "75%    2.226016e+07  2.590028e+07  2.617334e+07  2.706177e+07  \n",
       "max    7.229458e+09  7.888964e+09  7.951595e+09  8.024997e+09  "
      ]
     },
     "execution_count": 75,
     "metadata": {},
     "output_type": "execute_result"
    }
   ],
   "source": [
    "wb.describe()"
   ]
  },
  {
   "cell_type": "markdown",
   "metadata": {},
   "source": [
    "### 5. Min and axes"
   ]
  },
  {
   "cell_type": "code",
   "execution_count": 47,
   "metadata": {},
   "outputs": [],
   "source": [
    "wb_wo_wld = wb[wb[\"Country Code\"] != \"WLD\"]"
   ]
  },
  {
   "cell_type": "code",
   "execution_count": 40,
   "metadata": {},
   "outputs": [
    {
     "name": "stdout",
     "output_type": "stream",
     "text": [
      "         Series Name  Series Code    Country Name Country Code variable  \\\n",
      "0  Population, total  SP.POP.TOTL     Afghanistan          AFG     2001   \n",
      "1  Population, total  SP.POP.TOTL         Albania          ALB     2001   \n",
      "2  Population, total  SP.POP.TOTL         Algeria          DZA     2001   \n",
      "3  Population, total  SP.POP.TOTL  American Samoa          ASM     2001   \n",
      "4  Population, total  SP.POP.TOTL         Andorra          AND     2001   \n",
      "\n",
      "      value  \n",
      "0  19688632  \n",
      "1   3060173  \n",
      "2  31200985  \n",
      "3     58324  \n",
      "4     67820  \n",
      "Min overall:  9609\n",
      "Max overall:  8024997028\n"
     ]
    }
   ],
   "source": [
    "# Min / Max overall\n",
    "wb_stack = wb.melt(id_vars=wb.columns[:4].to_list(), value_vars=wb.columns[4:].to_list())\n",
    "print(wb_stack.head())\n",
    "# Min / Max overall\n",
    "print(\"Min overall: \", min(wb_stack[\"value\"]))\n",
    "print(\"Max overall: \", max(wb_stack[\"value\"]))"
   ]
  },
  {
   "cell_type": "code",
   "execution_count": 49,
   "metadata": {},
   "outputs": [
    {
     "name": "stdout",
     "output_type": "stream",
     "text": [
      "Min/Max without total world\n",
      "         Series Name  Series Code    Country Name Country Code variable  \\\n",
      "0  Population, total  SP.POP.TOTL     Afghanistan          AFG     2001   \n",
      "1  Population, total  SP.POP.TOTL         Albania          ALB     2001   \n",
      "2  Population, total  SP.POP.TOTL         Algeria          DZA     2001   \n",
      "3  Population, total  SP.POP.TOTL  American Samoa          ASM     2001   \n",
      "4  Population, total  SP.POP.TOTL         Andorra          AND     2001   \n",
      "\n",
      "      value  \n",
      "0  19688632  \n",
      "1   3060173  \n",
      "2  31200985  \n",
      "3     58324  \n",
      "4     67820  \n",
      "Min overall:  9609\n",
      "Max overall:  1428627663\n"
     ]
    }
   ],
   "source": [
    "print(\"Min/Max without total world\")\n",
    "# Min / Max overall\n",
    "wb_wo_wld_stack = wb_wo_wld.melt(id_vars=wb_wo_wld.columns[:4].to_list(), value_vars=wb_wo_wld.columns[4:].to_list())\n",
    "print(wb_wo_wld_stack.head())\n",
    "# Min / Max overall\n",
    "print(\"Min overall: \", min(wb_wo_wld_stack[\"value\"])) # min(wb.describe().loc[\"min\"])\n",
    "print(\"Max overall: \", max(wb_wo_wld_stack[\"value\"]))"
   ]
  },
  {
   "cell_type": "code",
   "execution_count": 22,
   "metadata": {},
   "outputs": [
    {
     "name": "stdout",
     "output_type": "stream",
     "text": [
      "Min 2023:  11396\n",
      "Max 2023:  8024997028\n"
     ]
    }
   ],
   "source": [
    "# Min / Max 2023\n",
    "print(\"Min 2023: \", min(wb[\"2023\"]))\n",
    "print(\"Max 2023: \", max(wb[\"2023\"]))"
   ]
  },
  {
   "cell_type": "code",
   "execution_count": 50,
   "metadata": {},
   "outputs": [
    {
     "name": "stdout",
     "output_type": "stream",
     "text": [
      "Min/max 2023 without total world\n",
      "Min 2023:  11396\n",
      "Max 2023:  1428627663\n"
     ]
    }
   ],
   "source": [
    "print(\"Min/max 2023 without total world\")\n",
    "# Min / Max 2023\n",
    "print(\"Min 2023: \", min(wb_wo_wld[\"2023\"]))\n",
    "print(\"Max 2023: \", max(wb_wo_wld[\"2023\"]))"
   ]
  },
  {
   "cell_type": "code",
   "execution_count": 54,
   "metadata": {},
   "outputs": [
    {
     "name": "stdout",
     "output_type": "stream",
     "text": [
      "Country with the lowest population in 2023:  Tuvalu\n",
      "Country with the highest population in 2023:  India\n"
     ]
    }
   ],
   "source": [
    "print(\"Country with the lowest population in 2023: \", wb_wo_wld.iloc[wb_wo_wld[\"2023\"].idxmin(), 2])\n",
    "print(\"Country with the highest population in 2023: \", wb_wo_wld.iloc[wb_wo_wld[\"2023\"].idxmax(), 2])"
   ]
  },
  {
   "cell_type": "markdown",
   "metadata": {},
   "source": [
    "### 6. Spain and homecountry"
   ]
  },
  {
   "cell_type": "code",
   "execution_count": 27,
   "metadata": {},
   "outputs": [
    {
     "data": {
      "text/html": [
       "<div>\n",
       "<style scoped>\n",
       "    .dataframe tbody tr th:only-of-type {\n",
       "        vertical-align: middle;\n",
       "    }\n",
       "\n",
       "    .dataframe tbody tr th {\n",
       "        vertical-align: top;\n",
       "    }\n",
       "\n",
       "    .dataframe thead th {\n",
       "        text-align: right;\n",
       "    }\n",
       "</style>\n",
       "<table border=\"1\" class=\"dataframe\">\n",
       "  <thead>\n",
       "    <tr style=\"text-align: right;\">\n",
       "      <th></th>\n",
       "      <th>Series Name</th>\n",
       "      <th>Series Code</th>\n",
       "      <th>Country Name</th>\n",
       "      <th>Country Code</th>\n",
       "      <th>2001</th>\n",
       "      <th>2002</th>\n",
       "      <th>2003</th>\n",
       "      <th>2011</th>\n",
       "      <th>2012</th>\n",
       "      <th>2013</th>\n",
       "      <th>2021</th>\n",
       "      <th>2022</th>\n",
       "      <th>2023</th>\n",
       "    </tr>\n",
       "  </thead>\n",
       "  <tbody>\n",
       "    <tr>\n",
       "      <th>179</th>\n",
       "      <td>Population, total</td>\n",
       "      <td>SP.POP.TOTL</td>\n",
       "      <td>Spain</td>\n",
       "      <td>ESP</td>\n",
       "      <td>40850412</td>\n",
       "      <td>41431558</td>\n",
       "      <td>42187645</td>\n",
       "      <td>46742697</td>\n",
       "      <td>46773055</td>\n",
       "      <td>46620045</td>\n",
       "      <td>47415794</td>\n",
       "      <td>47778340</td>\n",
       "      <td>48373336</td>\n",
       "    </tr>\n",
       "  </tbody>\n",
       "</table>\n",
       "</div>"
      ],
      "text/plain": [
       "           Series Name  Series Code Country Name Country Code      2001  \\\n",
       "179  Population, total  SP.POP.TOTL        Spain          ESP  40850412   \n",
       "\n",
       "         2002      2003      2011      2012      2013      2021      2022  \\\n",
       "179  41431558  42187645  46742697  46773055  46620045  47415794  47778340   \n",
       "\n",
       "         2023  \n",
       "179  48373336  "
      ]
     },
     "execution_count": 27,
     "metadata": {},
     "output_type": "execute_result"
    }
   ],
   "source": [
    "# Spain:\n",
    "wb[wb[\"Country Name\"] == \"Spain\"]"
   ]
  },
  {
   "cell_type": "code",
   "execution_count": 28,
   "metadata": {},
   "outputs": [
    {
     "data": {
      "text/html": [
       "<div>\n",
       "<style scoped>\n",
       "    .dataframe tbody tr th:only-of-type {\n",
       "        vertical-align: middle;\n",
       "    }\n",
       "\n",
       "    .dataframe tbody tr th {\n",
       "        vertical-align: top;\n",
       "    }\n",
       "\n",
       "    .dataframe thead th {\n",
       "        text-align: right;\n",
       "    }\n",
       "</style>\n",
       "<table border=\"1\" class=\"dataframe\">\n",
       "  <thead>\n",
       "    <tr style=\"text-align: right;\">\n",
       "      <th></th>\n",
       "      <th>Series Name</th>\n",
       "      <th>Series Code</th>\n",
       "      <th>Country Name</th>\n",
       "      <th>Country Code</th>\n",
       "      <th>2001</th>\n",
       "      <th>2002</th>\n",
       "      <th>2003</th>\n",
       "      <th>2011</th>\n",
       "      <th>2012</th>\n",
       "      <th>2013</th>\n",
       "      <th>2021</th>\n",
       "      <th>2022</th>\n",
       "      <th>2023</th>\n",
       "    </tr>\n",
       "  </thead>\n",
       "  <tbody>\n",
       "    <tr>\n",
       "      <th>73</th>\n",
       "      <td>Population, total</td>\n",
       "      <td>SP.POP.TOTL</td>\n",
       "      <td>Germany</td>\n",
       "      <td>DEU</td>\n",
       "      <td>82349925</td>\n",
       "      <td>82488495</td>\n",
       "      <td>82534176</td>\n",
       "      <td>80274983</td>\n",
       "      <td>80425823</td>\n",
       "      <td>80645605</td>\n",
       "      <td>83196078</td>\n",
       "      <td>83797985</td>\n",
       "      <td>84482267</td>\n",
       "    </tr>\n",
       "  </tbody>\n",
       "</table>\n",
       "</div>"
      ],
      "text/plain": [
       "          Series Name  Series Code Country Name Country Code      2001  \\\n",
       "73  Population, total  SP.POP.TOTL      Germany          DEU  82349925   \n",
       "\n",
       "        2002      2003      2011      2012      2013      2021      2022  \\\n",
       "73  82488495  82534176  80274983  80425823  80645605  83196078  83797985   \n",
       "\n",
       "        2023  \n",
       "73  84482267  "
      ]
     },
     "execution_count": 28,
     "metadata": {},
     "output_type": "execute_result"
    }
   ],
   "source": [
    "# Home country:\n",
    "wb[wb[\"Country Name\"] == \"Germany\"]"
   ]
  },
  {
   "cell_type": "markdown",
   "metadata": {},
   "source": [
    "#### Row/Column with difference over time"
   ]
  },
  {
   "cell_type": "code",
   "execution_count": 68,
   "metadata": {},
   "outputs": [
    {
     "data": {
      "text/html": [
       "<div>\n",
       "<style scoped>\n",
       "    .dataframe tbody tr th:only-of-type {\n",
       "        vertical-align: middle;\n",
       "    }\n",
       "\n",
       "    .dataframe tbody tr th {\n",
       "        vertical-align: top;\n",
       "    }\n",
       "\n",
       "    .dataframe thead th {\n",
       "        text-align: right;\n",
       "    }\n",
       "</style>\n",
       "<table border=\"1\" class=\"dataframe\">\n",
       "  <thead>\n",
       "    <tr style=\"text-align: right;\">\n",
       "      <th></th>\n",
       "      <th>Series Name</th>\n",
       "      <th>Series Code</th>\n",
       "      <th>Country Name</th>\n",
       "      <th>Country Code</th>\n",
       "      <th>variable</th>\n",
       "      <th>value</th>\n",
       "      <th>Diffs</th>\n",
       "    </tr>\n",
       "  </thead>\n",
       "  <tbody>\n",
       "    <tr>\n",
       "      <th>0</th>\n",
       "      <td>Population, total</td>\n",
       "      <td>SP.POP.TOTL</td>\n",
       "      <td>Afghanistan</td>\n",
       "      <td>AFG</td>\n",
       "      <td>2001</td>\n",
       "      <td>19688632</td>\n",
       "      <td>NaN</td>\n",
       "    </tr>\n",
       "    <tr>\n",
       "      <th>1</th>\n",
       "      <td>Population, total</td>\n",
       "      <td>SP.POP.TOTL</td>\n",
       "      <td>Albania</td>\n",
       "      <td>ALB</td>\n",
       "      <td>2001</td>\n",
       "      <td>3060173</td>\n",
       "      <td>NaN</td>\n",
       "    </tr>\n",
       "    <tr>\n",
       "      <th>2</th>\n",
       "      <td>Population, total</td>\n",
       "      <td>SP.POP.TOTL</td>\n",
       "      <td>Algeria</td>\n",
       "      <td>DZA</td>\n",
       "      <td>2001</td>\n",
       "      <td>31200985</td>\n",
       "      <td>NaN</td>\n",
       "    </tr>\n",
       "    <tr>\n",
       "      <th>3</th>\n",
       "      <td>Population, total</td>\n",
       "      <td>SP.POP.TOTL</td>\n",
       "      <td>American Samoa</td>\n",
       "      <td>ASM</td>\n",
       "      <td>2001</td>\n",
       "      <td>58324</td>\n",
       "      <td>NaN</td>\n",
       "    </tr>\n",
       "    <tr>\n",
       "      <th>4</th>\n",
       "      <td>Population, total</td>\n",
       "      <td>SP.POP.TOTL</td>\n",
       "      <td>Andorra</td>\n",
       "      <td>AND</td>\n",
       "      <td>2001</td>\n",
       "      <td>67820</td>\n",
       "      <td>NaN</td>\n",
       "    </tr>\n",
       "    <tr>\n",
       "      <th>...</th>\n",
       "      <td>...</td>\n",
       "      <td>...</td>\n",
       "      <td>...</td>\n",
       "      <td>...</td>\n",
       "      <td>...</td>\n",
       "      <td>...</td>\n",
       "      <td>...</td>\n",
       "    </tr>\n",
       "    <tr>\n",
       "      <th>1952</th>\n",
       "      <td>Population, total</td>\n",
       "      <td>SP.POP.TOTL</td>\n",
       "      <td>Uzbekistan</td>\n",
       "      <td>UZB</td>\n",
       "      <td>2023</td>\n",
       "      <td>36412350</td>\n",
       "      <td>764250.0</td>\n",
       "    </tr>\n",
       "    <tr>\n",
       "      <th>1953</th>\n",
       "      <td>Population, total</td>\n",
       "      <td>SP.POP.TOTL</td>\n",
       "      <td>Vanuatu</td>\n",
       "      <td>VUT</td>\n",
       "      <td>2023</td>\n",
       "      <td>334506</td>\n",
       "      <td>7766.0</td>\n",
       "    </tr>\n",
       "    <tr>\n",
       "      <th>1954</th>\n",
       "      <td>Population, total</td>\n",
       "      <td>SP.POP.TOTL</td>\n",
       "      <td>Venezuela, RB</td>\n",
       "      <td>VEN</td>\n",
       "      <td>2023</td>\n",
       "      <td>28838499</td>\n",
       "      <td>536803.0</td>\n",
       "    </tr>\n",
       "    <tr>\n",
       "      <th>1955</th>\n",
       "      <td>Population, total</td>\n",
       "      <td>SP.POP.TOTL</td>\n",
       "      <td>Viet Nam</td>\n",
       "      <td>VNM</td>\n",
       "      <td>2023</td>\n",
       "      <td>98858950</td>\n",
       "      <td>672094.0</td>\n",
       "    </tr>\n",
       "    <tr>\n",
       "      <th>1956</th>\n",
       "      <td>Population, total</td>\n",
       "      <td>SP.POP.TOTL</td>\n",
       "      <td>Virgin Islands (U.S.)</td>\n",
       "      <td>VIR</td>\n",
       "      <td>2023</td>\n",
       "      <td>104917</td>\n",
       "      <td>-496.0</td>\n",
       "    </tr>\n",
       "  </tbody>\n",
       "</table>\n",
       "<p>1957 rows × 7 columns</p>\n",
       "</div>"
      ],
      "text/plain": [
       "            Series Name  Series Code           Country Name Country Code  \\\n",
       "0     Population, total  SP.POP.TOTL            Afghanistan          AFG   \n",
       "1     Population, total  SP.POP.TOTL                Albania          ALB   \n",
       "2     Population, total  SP.POP.TOTL                Algeria          DZA   \n",
       "3     Population, total  SP.POP.TOTL         American Samoa          ASM   \n",
       "4     Population, total  SP.POP.TOTL                Andorra          AND   \n",
       "...                 ...          ...                    ...          ...   \n",
       "1952  Population, total  SP.POP.TOTL             Uzbekistan          UZB   \n",
       "1953  Population, total  SP.POP.TOTL                Vanuatu          VUT   \n",
       "1954  Population, total  SP.POP.TOTL          Venezuela, RB          VEN   \n",
       "1955  Population, total  SP.POP.TOTL               Viet Nam          VNM   \n",
       "1956  Population, total  SP.POP.TOTL  Virgin Islands (U.S.)          VIR   \n",
       "\n",
       "     variable     value     Diffs  \n",
       "0        2001  19688632       NaN  \n",
       "1        2001   3060173       NaN  \n",
       "2        2001  31200985       NaN  \n",
       "3        2001     58324       NaN  \n",
       "4        2001     67820       NaN  \n",
       "...       ...       ...       ...  \n",
       "1952     2023  36412350  764250.0  \n",
       "1953     2023    334506    7766.0  \n",
       "1954     2023  28838499  536803.0  \n",
       "1955     2023  98858950  672094.0  \n",
       "1956     2023    104917    -496.0  \n",
       "\n",
       "[1957 rows x 7 columns]"
      ]
     },
     "execution_count": 68,
     "metadata": {},
     "output_type": "execute_result"
    }
   ],
   "source": [
    "wb_stack[\"Diffs\"] = wb_stack.groupby([\"Country Code\"])[\"value\"].diff()\n",
    "wb_stack.head(-5)"
   ]
  },
  {
   "cell_type": "markdown",
   "metadata": {},
   "source": [
    "### 7. Other and plotting"
   ]
  },
  {
   "cell_type": "code",
   "execution_count": 86,
   "metadata": {},
   "outputs": [
    {
     "data": {
      "image/png": "[encoded data removed]",
      "text/plain": [
       "<Figure size 1000x500 with 2 Axes>"
      ]
     },
     "metadata": {},
     "output_type": "display_data"
    }
   ],
   "source": [
    "import matplotlib.pyplot as plt\n",
    "\n",
    "fig, axes = plt.subplots(nrows=1, ncols=2, figsize=(10, 5))\n",
    "axes[0].hist(wb[\"2023\"])\n",
    "axes[0].title.set_text(\"Data including total in 2023\")\n",
    "axes[1].hist(wb_wo_wld[\"2023\"])\n",
    "axes[1].title.set_text(\"Data excluding total in 2023\")\n",
    "fig.tight_layout()\n"
   ]
  },
  {
   "cell_type": "code",
   "execution_count": 88,
   "metadata": {},
   "outputs": [
    {
     "data": {
      "image/png": "[encoded data removed]",
      "text/plain": [
       "<Figure size 640x480 with 1 Axes>"
      ]
     },
     "metadata": {},
     "output_type": "display_data"
    }
   ],
   "source": [
    "import seaborn as sns\n",
    "\n",
    "fig_sns = sns.kdeplot(wb_wo_wld[\"2023\"])\n",
    "fig_sns.title.set_text(\"KDE plot for 2023\")"
   ]
  },
  {
   "cell_type": "code",
   "execution_count": 89,
   "metadata": {},
   "outputs": [
    {
     "name": "stdout",
     "output_type": "stream",
     "text": [
      "<class 'pandas.core.frame.DataFrame'>\n",
      "RangeIndex: 218 entries, 0 to 217\n",
      "Data columns (total 13 columns):\n",
      " #   Column        Non-Null Count  Dtype \n",
      "---  ------        --------------  ----- \n",
      " 0   Series Name   218 non-null    object\n",
      " 1   Series Code   218 non-null    object\n",
      " 2   Country Name  218 non-null    object\n",
      " 3   Country Code  218 non-null    object\n",
      " 4   2001          218 non-null    int64 \n",
      " 5   2002          218 non-null    int64 \n",
      " 6   2003          218 non-null    int64 \n",
      " 7   2011          218 non-null    int64 \n",
      " 8   2012          218 non-null    int64 \n",
      " 9   2013          218 non-null    int64 \n",
      " 10  2021          218 non-null    int64 \n",
      " 11  2022          218 non-null    int64 \n",
      " 12  2023          218 non-null    int64 \n",
      "dtypes: int64(9), object(4)\n",
      "memory usage: 22.3+ KB\n"
     ]
    }
   ],
   "source": [
    "wb.info()"
   ]
  },
  {
   "cell_type": "code",
   "execution_count": 98,
   "metadata": {},
   "outputs": [
    {
     "data": {
      "text/html": [
       "<div>\n",
       "<style scoped>\n",
       "    .dataframe tbody tr th:only-of-type {\n",
       "        vertical-align: middle;\n",
       "    }\n",
       "\n",
       "    .dataframe tbody tr th {\n",
       "        vertical-align: top;\n",
       "    }\n",
       "\n",
       "    .dataframe thead th {\n",
       "        text-align: right;\n",
       "    }\n",
       "</style>\n",
       "<table border=\"1\" class=\"dataframe\">\n",
       "  <thead>\n",
       "    <tr style=\"text-align: right;\">\n",
       "      <th></th>\n",
       "      <th>Country Code</th>\n",
       "    </tr>\n",
       "  </thead>\n",
       "  <tbody>\n",
       "    <tr>\n",
       "      <th>1</th>\n",
       "      <td>ALB</td>\n",
       "    </tr>\n",
       "    <tr>\n",
       "      <th>2</th>\n",
       "      <td>DZA</td>\n",
       "    </tr>\n",
       "    <tr>\n",
       "      <th>3</th>\n",
       "      <td>ASM</td>\n",
       "    </tr>\n",
       "    <tr>\n",
       "      <th>4</th>\n",
       "      <td>AND</td>\n",
       "    </tr>\n",
       "  </tbody>\n",
       "</table>\n",
       "</div>"
      ],
      "text/plain": [
       "  Country Code\n",
       "1          ALB\n",
       "2          DZA\n",
       "3          ASM\n",
       "4          AND"
      ]
     },
     "execution_count": 98,
     "metadata": {},
     "output_type": "execute_result"
    }
   ],
   "source": [
    "wb.iloc[1:5, [wb.columns.get_loc(\"Country Code\")]]"
   ]
  },
  {
   "cell_type": "markdown",
   "metadata": {},
   "source": [
    "## Text data"
   ]
  },
  {
   "cell_type": "code",
   "execution_count": 84,
   "metadata": {},
   "outputs": [
    {
     "data": {
      "text/html": [
       "<div>\n",
       "<style scoped>\n",
       "    .dataframe tbody tr th:only-of-type {\n",
       "        vertical-align: middle;\n",
       "    }\n",
       "\n",
       "    .dataframe tbody tr th {\n",
       "        vertical-align: top;\n",
       "    }\n",
       "\n",
       "    .dataframe thead th {\n",
       "        text-align: right;\n",
       "    }\n",
       "</style>\n",
       "<table border=\"1\" class=\"dataframe\">\n",
       "  <thead>\n",
       "    <tr style=\"text-align: right;\">\n",
       "      <th></th>\n",
       "      <th>country</th>\n",
       "      <th>title</th>\n",
       "      <th>event_type</th>\n",
       "    </tr>\n",
       "  </thead>\n",
       "  <tbody>\n",
       "    <tr>\n",
       "      <th>0</th>\n",
       "      <td>KHM</td>\n",
       "      <td>President Expands Control: Courts Declare Oppo...</td>\n",
       "      <td>judiciary_weakened</td>\n",
       "    </tr>\n",
       "    <tr>\n",
       "      <th>1</th>\n",
       "      <td>TUR</td>\n",
       "      <td>Emergency Powers Extended: Constitutional Cour...</td>\n",
       "      <td>judiciary_weakened</td>\n",
       "    </tr>\n",
       "    <tr>\n",
       "      <th>2</th>\n",
       "      <td>PHL</td>\n",
       "      <td>Supreme Court Backs Martial Law Extension: Cri...</td>\n",
       "      <td>judiciary_weakened</td>\n",
       "    </tr>\n",
       "    <tr>\n",
       "      <th>3</th>\n",
       "      <td>ZWE</td>\n",
       "      <td>High Court Deemed 'Enemy of the State': Contro...</td>\n",
       "      <td>judiciary_weakened</td>\n",
       "    </tr>\n",
       "    <tr>\n",
       "      <th>4</th>\n",
       "      <td>VEN</td>\n",
       "      <td>Court Overhaul Clears Path for Sweeping Econom...</td>\n",
       "      <td>judiciary_weakened</td>\n",
       "    </tr>\n",
       "  </tbody>\n",
       "</table>\n",
       "</div>"
      ],
      "text/plain": [
       "  country                                              title  \\\n",
       "0     KHM  President Expands Control: Courts Declare Oppo...   \n",
       "1     TUR  Emergency Powers Extended: Constitutional Cour...   \n",
       "2     PHL  Supreme Court Backs Martial Law Extension: Cri...   \n",
       "3     ZWE  High Court Deemed 'Enemy of the State': Contro...   \n",
       "4     VEN  Court Overhaul Clears Path for Sweeping Econom...   \n",
       "\n",
       "           event_type  \n",
       "0  judiciary_weakened  \n",
       "1  judiciary_weakened  \n",
       "2  judiciary_weakened  \n",
       "3  judiciary_weakened  \n",
       "4  judiciary_weakened  "
      ]
     },
     "execution_count": 84,
     "metadata": {},
     "output_type": "execute_result"
    }
   ],
   "source": [
    "path = os.getcwd() + r\"\\data\"\n",
    "txt = pd.read_csv(rf\"{path}\\text_data.csv\")\n",
    "txt.head()"
   ]
  },
  {
   "cell_type": "code",
   "execution_count": null,
   "metadata": {},
   "outputs": [],
   "source": []
  }
 ],
 "metadata": {
  "kernelspec": {
   "display_name": "standard",
   "language": "python",
   "name": "python3"
  },
  "language_info": {
   "codemirror_mode": {
    "name": "ipython",
    "version": 3
   },
   "file_extension": ".py",
   "mimetype": "text/x-python",
   "name": "python",
   "nbconvert_exporter": "python",
   "pygments_lexer": "ipython3",
   "version": "3.12.5"
  }
 },
 "nbformat": 4,
 "nbformat_minor": 2
}
